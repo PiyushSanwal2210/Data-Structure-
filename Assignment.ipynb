{
 "cells": [
  {
   "cell_type": "markdown",
   "id": "73606bf8",
   "metadata": {},
   "source": [
    "#########DATA TYPES AND STRUCTURE QUESTIONS#########"
   ]
  },
  {
   "cell_type": "markdown",
   "id": "fea246ea",
   "metadata": {},
   "source": [
    "Question = 1>>>What are data structures, and why are they important?"
   ]
  },
  {
   "cell_type": "markdown",
   "id": "614653e9",
   "metadata": {},
   "source": [
    "###Ans = Data structures are fundamental to computer science, providing organized ways to store and manage data within a program. They are crucial for efficient data access, manipulation, and retrieval, impacting a program's performance, readability, and scalability. Choosing the right data structure can significantly affect how well a program solves a problem. \n",
    "### Importance=\n",
    "\n",
    "Efficient Data Management:\n",
    "\n",
    "Performance:\n",
    "\n",
    "Code Clarity and Readability:\n",
    "\n",
    "Scalability:\n",
    "\n",
    "Foundation for Algorithms:"
   ]
  },
  {
   "cell_type": "markdown",
   "id": "fc276bb2",
   "metadata": {},
   "source": [
    "Question =2 >>>  Explain the difference between mutable and immutable data types with examples?"
   ]
  },
  {
   "cell_type": "markdown",
   "id": "14e02bb8",
   "metadata": {},
   "source": [
    "###Ans = mutable data types allow their values to be modified after creation, while immutable data types cannot be changed once created. {modify= add,substract, doing any change}"
   ]
  },
  {
   "cell_type": "code",
   "execution_count": 1,
   "id": "d2c6e935",
   "metadata": {},
   "outputs": [],
   "source": [
    "#Mutable=\n",
    "list =[1,2,\"Piyush\"]"
   ]
  },
  {
   "cell_type": "code",
   "execution_count": 2,
   "id": "558e9b11",
   "metadata": {},
   "outputs": [],
   "source": [
    "list.append(\"vijay\")"
   ]
  },
  {
   "cell_type": "code",
   "execution_count": 3,
   "id": "89b83b09",
   "metadata": {},
   "outputs": [
    {
     "data": {
      "text/plain": [
       "[1, 2, 'Piyush', 'vijay']"
      ]
     },
     "execution_count": 3,
     "metadata": {},
     "output_type": "execute_result"
    }
   ],
   "source": [
    "list"
   ]
  },
  {
   "cell_type": "code",
   "execution_count": 4,
   "id": "ee46de4e",
   "metadata": {},
   "outputs": [],
   "source": [
    "#immutable = tuples\n",
    "tuple= (1,2,3)"
   ]
  },
  {
   "cell_type": "code",
   "execution_count": 5,
   "id": "a47dcd5a",
   "metadata": {},
   "outputs": [
    {
     "ename": "AttributeError",
     "evalue": "'tuple' object has no attribute 'append'",
     "output_type": "error",
     "traceback": [
      "\u001b[31m---------------------------------------------------------------------------\u001b[39m",
      "\u001b[31mAttributeError\u001b[39m                            Traceback (most recent call last)",
      "\u001b[36mCell\u001b[39m\u001b[36m \u001b[39m\u001b[32mIn[5]\u001b[39m\u001b[32m, line 1\u001b[39m\n\u001b[32m----> \u001b[39m\u001b[32m1\u001b[39m \u001b[38;5;28;43mtuple\u001b[39;49m\u001b[43m.\u001b[49m\u001b[43mappend\u001b[49m(\u001b[32m4\u001b[39m)\n",
      "\u001b[31mAttributeError\u001b[39m: 'tuple' object has no attribute 'append'"
     ]
    }
   ],
   "source": [
    "tuple.append(4)"
   ]
  },
  {
   "cell_type": "markdown",
   "id": "a1422a5f",
   "metadata": {},
   "source": [
    "Question = 3 >>> What are the main differences between lists and tuples in Python?"
   ]
  },
  {
   "cell_type": "markdown",
   "id": "1ef2f222",
   "metadata": {},
   "source": [
    "#Ans = Lists and tuples are both fundamental sequence types in Python, but they differ significantly in mutability, syntax, and use cases. Here's a breakdown of their key distinctions: \n",
    "Mutability:\n",
    "\n",
    "Lists: are mutable, meaning their elements can be modified after creation. Items can be added, removed, or changed.\n",
    "Tuples: are immutable; once created, their elements cannot be changed. This makes them suitable for data that should remain constant.\n",
    "\n",
    "Syntax:\n",
    "Lists: are defined using square brackets [].\n",
    "Tuples: are defined using parentheses ().\n",
    "\n",
    "Performance:\n",
    "Tuples: are generally faster and more memory-efficient than lists due to their immutability. Python can optimize memory allocation for tuples since their size is fixed.\n",
    "\n",
    "Use Cases:\n",
    "Lists: are ideal for collections that require frequent modifications, such as storing a sequence of events or managing a queue of tasks.\n",
    "Tuples: are suitable for representing fixed data, like coordinates, configuration settings, or records where the values should not be altered."
   ]
  },
  {
   "cell_type": "code",
   "execution_count": 6,
   "id": "82897e44",
   "metadata": {},
   "outputs": [
    {
     "name": "stdout",
     "output_type": "stream",
     "text": [
      "[10, 2, 3]\n",
      "(1, 2, 3)\n"
     ]
    }
   ],
   "source": [
    "# Example demonstrating mutability\n",
    "my_list = [1, 2, 3]\n",
    "my_list[0] = 10  # Modifying an element is allowed\n",
    "print(my_list)  # Output: [10, 2, 3]\n",
    "\n",
    "my_tuple = (1, 2, 3)\n",
    "# my_tuple[0] = 10 # This would raise an error because tuples are immutable\n",
    "print(my_tuple)"
   ]
  },
  {
   "cell_type": "markdown",
   "id": "02d8eec1",
   "metadata": {},
   "source": [
    "Question=4 >>> Describe how dictionaries store data?"
   ]
  },
  {
   "cell_type": "markdown",
   "id": "d2aed6f2",
   "metadata": {},
   "source": [
    "#Ans = Dictionaries are unordered collections of data and are represented with curly brackets { } . Like lists, dictionaries are mutable(changeable) and indexed. With dictionaries, data is stored in a key:value format."
   ]
  },
  {
   "cell_type": "code",
   "execution_count": 11,
   "id": "4d77c749",
   "metadata": {},
   "outputs": [],
   "source": [
    "my_dict = {\"name\":\"piyush\", \"game\":\"football\"}"
   ]
  },
  {
   "cell_type": "code",
   "execution_count": 12,
   "id": "ae898296",
   "metadata": {},
   "outputs": [
    {
     "data": {
      "text/plain": [
       "{'name': 'piyush', 'game': 'football'}"
      ]
     },
     "execution_count": 12,
     "metadata": {},
     "output_type": "execute_result"
    }
   ],
   "source": [
    "my_dict"
   ]
  },
  {
   "cell_type": "markdown",
   "id": "8f69c8c9",
   "metadata": {},
   "source": [
    "Question = 5 >>> Why might you use a set instead of a list in Python?"
   ]
  },
  {
   "cell_type": "markdown",
   "id": "7bdf4039",
   "metadata": {},
   "source": [
    "Ans = Sets and lists serve different purposes in Python, leading to distinct use cases. Sets are unordered collections of unique elements, while lists are ordered collections that can contain duplicates. Here's why one might choose a set over a list\n",
    "\n",
    "Uniqueness\n",
    "\n",
    "Membership Testing\n",
    "\n",
    "Set Operations\n",
    "\n",
    "Memory Efficiency"
   ]
  },
  {
   "cell_type": "markdown",
   "id": "762cf1da",
   "metadata": {},
   "source": [
    "Qyestion = 6 >>> What is a string in Python, and how is it different from a list?"
   ]
  },
  {
   "cell_type": "markdown",
   "id": "8cc42fbe",
   "metadata": {},
   "source": [
    "Ans = A string is a sequence of characters between single or double quotes. A list is a sequence of items, where each item could be anything (an integer, a float, a string, etc)"
   ]
  },
  {
   "cell_type": "markdown",
   "id": "7e023762",
   "metadata": {},
   "source": [
    "Question = 7 >>> How do tuples ensure data integrity in Python? "
   ]
  },
  {
   "cell_type": "markdown",
   "id": "09f67cac",
   "metadata": {},
   "source": [
    "Ans = Tuples in Python ensure data integrity through their immutability. Once a tuple is created, its elements cannot be changed, added, or removed. This characteristic guarantees that the data stored within a tuple remains constant throughout its lifecycle, preventing accidental modifications and maintaining data consistency."
   ]
  },
  {
   "cell_type": "code",
   "execution_count": 1,
   "id": "aeb1fc04",
   "metadata": {},
   "outputs": [
    {
     "name": "stdout",
     "output_type": "stream",
     "text": [
      "Error: 'tuple' object does not support item assignment\n",
      "{(1, 2, 3, 'hello'): 'value'}\n"
     ]
    }
   ],
   "source": [
    "my_tuple = (1, 2, 3, \"hello\")\n",
    "# Attempting to modify the tuple will raise an error\n",
    "try:\n",
    "    my_tuple[0] = 4  # Raises TypeError: 'tuple' object does not support item assignment\n",
    "except TypeError as e:\n",
    "    print(f\"Error: {e}\")\n",
    "\n",
    "# Tuples can be used as dictionary keys because they are immutable\n",
    "my_dict = {my_tuple: \"value\"}\n",
    "print(my_dict)"
   ]
  },
  {
   "cell_type": "markdown",
   "id": "2504d5c9",
   "metadata": {},
   "source": [
    "Question = 8 >>> What is a hash table, and how does it relate to dictionaries in Python?"
   ]
  },
  {
   "cell_type": "markdown",
   "id": "b8c594a6",
   "metadata": {},
   "source": [
    "Ans = A hash table is a data structure that stores key-value pairs. It uses a hash function to compute an index (or \"hash\") into an array of buckets or slots, from which the desired value can be looked up. In Python, dictionaries are implemented using hash tables. \n",
    "\n",
    "When you add a key-value pair to a dictionary, Python calculates the hash value of the key using its built-in hash() function. This hash value is then used to determine the index in the underlying hash table where the value will be stored. When you look up a value using its key, Python again calculates the hash value of the key and uses it to quickly locate the corresponding value in the hash table.\n",
    "\n",
    "Hash tables provide efficient average-case time complexity for insertion, deletion, and lookup operations, making dictionaries a powerful and commonly used data structure in Python."
   ]
  },
  {
   "cell_type": "markdown",
   "id": "cc9b40bc",
   "metadata": {},
   "source": [
    "Question = 9 >>> Can lists contain different data types in Python?"
   ]
  },
  {
   "cell_type": "markdown",
   "id": "950e46f8",
   "metadata": {},
   "source": [
    "Ans = Yes, lists in Python can contain elements of different data types. This is a key feature of Python lists, making them highly flexible and versatile. A single list can hold integers, strings, floats, booleans, and even other lists or data structures. "
   ]
  },
  {
   "cell_type": "code",
   "execution_count": 2,
   "id": "b33d0ce8",
   "metadata": {},
   "outputs": [
    {
     "name": "stdout",
     "output_type": "stream",
     "text": [
      "[1, 'hello', 3.14, True, [1, 2, 3]]\n"
     ]
    }
   ],
   "source": [
    "my_list = [1, \"hello\", 3.14, True, [1, 2, 3]]\n",
    "print(my_list)"
   ]
  },
  {
   "cell_type": "markdown",
   "id": "b7e76c4a",
   "metadata": {},
   "source": [
    "Question = 10 >>> Explain why strings are immutable in Python?"
   ]
  },
  {
   "cell_type": "markdown",
   "id": "882de2c8",
   "metadata": {},
   "source": [
    "Ans = Strings are immutable in Python for several reasons,\n",
    "\n",
    "Efficiency\n",
    "\n",
    "Thread safety\n",
    "\n",
    "Use as dictionary keys\n",
    "\n",
    "Avoiding unintended side effects\n",
    "\n",
    "Avoiding unintended side effects\n",
    "\n",
    "While it might seem restrictive, string immutability in Python offers significant advantages in terms of performance, safety, and code clarity. When a string needs to be modified, a new string object is created with the desired changes, leaving the original string untouched."
   ]
  },
  {
   "cell_type": "markdown",
   "id": "da0ace40",
   "metadata": {},
   "source": [
    "Question = 11 >>>  What advantages do dictionaries offer over lists for certain tasks?"
   ]
  },
  {
   "cell_type": "markdown",
   "id": "3c93b0d9",
   "metadata": {},
   "source": [
    "Ans = Dictionaries in Python offer fast data retrieval: Unlike lists where you have to traverse through each element to find a value, dictionaries use hash tables for quick access to values based on keys.\n",
    "\n",
    "it is more efficient to use dictionaries for the searching of elements as it can be carried out in a much faster manner. Lists are used when it is important to maintain the order of the elements and dealing with data that may get changed in the future."
   ]
  },
  {
   "cell_type": "markdown",
   "id": "a00c1ce5",
   "metadata": {},
   "source": [
    "Question = 12 >>>  Describe a scenario where using a tuple would be preferable over a list?"
   ]
  },
  {
   "cell_type": "markdown",
   "id": "ca829ed2",
   "metadata": {},
   "source": [
    "Ans = Use a list if you need a mutable collection of items where you may need to add, remove, or change elements. Lists are more flexible and have more built-in methods, making them ideal for dynamic collections. Use a tuple if you need an immutable collection where the elements won't change after creation."
   ]
  },
  {
   "cell_type": "code",
   "execution_count": 16,
   "id": "f0fc45da",
   "metadata": {},
   "outputs": [],
   "source": [
    "name = (\"ajay\", \"vijay\")\n",
    "adhaar_number = (\"12345\", \"67890\")"
   ]
  },
  {
   "cell_type": "code",
   "execution_count": 17,
   "id": "138eb25b",
   "metadata": {},
   "outputs": [
    {
     "data": {
      "text/plain": [
       "tuple"
      ]
     },
     "execution_count": 17,
     "metadata": {},
     "output_type": "execute_result"
    }
   ],
   "source": [
    "type(name)"
   ]
  },
  {
   "cell_type": "markdown",
   "id": "8460c90f",
   "metadata": {},
   "source": [
    "Question = 13 >>>  How do sets handle duplicate values in Python?"
   ]
  },
  {
   "cell_type": "markdown",
   "id": "8af0d4e2",
   "metadata": {},
   "source": [
    "Ans = Sets in Python are designed to store only unique elements. When attempting to add a duplicate value to a set, the set automatically discards the duplicate, ensuring that it contains only distinct elements. This behavior is a core characteristic of sets, making them useful for tasks such as removing duplicates from a list or checking for membership without concern for repetition."
   ]
  },
  {
   "cell_type": "code",
   "execution_count": 19,
   "id": "ab18c838",
   "metadata": {},
   "outputs": [
    {
     "name": "stdout",
     "output_type": "stream",
     "text": [
      "{1, 2, 3, 4, 5}\n"
     ]
    }
   ],
   "source": [
    "my_set = {1, 2, 2, 3, 4, 4, 5}\n",
    "print(my_set)"
   ]
  },
  {
   "cell_type": "markdown",
   "id": "78c18c2f",
   "metadata": {},
   "source": [
    "Question = 14 >>> How does the “in” keyword work differently for lists and dictionaries?"
   ]
  },
  {
   "cell_type": "markdown",
   "id": "c846c2b5",
   "metadata": {},
   "source": [
    "Ans = As mentioned above, the in operation for the dictionary tests on keys. The key of the dictionary is a unique value as well as the set, and the execution time is about the same as for sets. On the other hand, dictionary values can be duplicated like a list.\n",
    "\n",
    "The in operator in Python checks if a specified value exists within a sequence, such as a list, tuple, or string."
   ]
  },
  {
   "cell_type": "markdown",
   "id": "667ac59e",
   "metadata": {},
   "source": [
    "Question = 15 >>> Can you modify the elements of a tuple? Explain why or why not?"
   ]
  },
  {
   "cell_type": "markdown",
   "id": "feeb64bb",
   "metadata": {},
   "source": [
    "Ans = No, you cannot directly modify the elements of a tuple in Python. Tuples are immutable, meaning their contents cannot be changed after creation. This is a key difference between tuples and lists, which are mutable. If you need a data structure that allows modification, a list should be used instead. \n",
    "\n",
    "Immutability:\n",
    "\n",
    "Tuples are designed to be immutable, which means once created, the elements within the tuple cannot be altered. \n",
    "Why Tuples are Immutable:\n",
    "\n",
    "Modifying a Tuple:\n",
    "\n",
    "Attempting to modify a tuple will raise a TypeError. For example, trying to assign a new value to a tuple element will result in an error. "
   ]
  },
  {
   "cell_type": "markdown",
   "id": "51e346b6",
   "metadata": {},
   "source": [
    "Question = 16 >>> What is a nested dictionary, and give an example of its use case?"
   ]
  },
  {
   "cell_type": "markdown",
   "id": "ba8ad90a",
   "metadata": {},
   "source": [
    "Ans = A nested dictionary is a dictionary where the value of one or more keys is another dictionary. It's essentially a dictionary within a dictionary, allowing for more complex data structures and organization. A common use case is representing hierarchical data like an employee directory with each employee having their own dictionary of details. "
   ]
  },
  {
   "cell_type": "code",
   "execution_count": 21,
   "id": "47f95f56",
   "metadata": {},
   "outputs": [
    {
     "name": "stdout",
     "output_type": "stream",
     "text": [
      "Alice\n",
      "Data Scientist\n"
     ]
    }
   ],
   "source": [
    "# Nested dictionary representing employees in a company\n",
    "employees = {\n",
    "  \"department1\": {\n",
    "    \"emp1\": {\n",
    "      \"name\": \"Alice\",\n",
    "      \"title\": \"Software Engineer\",\n",
    "      \"salary\": 80000\n",
    "    },\n",
    "    \"emp2\": {\n",
    "      \"name\": \"Bob\",\n",
    "      \"title\": \"Project Manager\",\n",
    "      \"salary\": 100000\n",
    "    }\n",
    "  },\n",
    "  \"department2\": {\n",
    "    \"emp3\": {\n",
    "      \"name\": \"Charlie\",\n",
    "      \"title\": \"Data Scientist\",\n",
    "      \"salary\": 90000\n",
    "    }\n",
    "  }\n",
    "}\n",
    "\n",
    "# Accessing data within the nested dictionary\n",
    "print(employees[\"department1\"][\"emp1\"][\"name\"]) \n",
    "print(employees[\"department2\"][\"emp3\"][\"title\"]) "
   ]
  },
  {
   "cell_type": "markdown",
   "id": "348456b7",
   "metadata": {},
   "source": [
    "Question = 17 >>> Describe the time complexity of accessing elements in a dictionary?"
   ]
  },
  {
   "cell_type": "markdown",
   "id": "6ede7d94",
   "metadata": {},
   "source": [
    "Ans = Accessing an element in a dictionary typically takes O(1) (constant time) on average. This means the time it takes to retrieve a value using its key doesn't increase significantly as the dictionary size grows. However, in the worst-case scenario, where numerous collisions occur (meaning different keys map to the same hash value), the time complexity can degrade to O(n) (linear time). \n",
    "\n",
    "Here's a more detailed explanation:\n",
    "\n",
    "Average Case (O(1)):\n",
    "\n",
    "Dictionaries are often implemented using hash tables, which allow for near-instantaneous lookup of values based on their keys. The hash function converts the key into an index within the hash table, allowing direct access to the corresponding value. \n",
    "\n",
    "Worst Case (O(n)):\n",
    "\n",
    "If a hash function is poorly designed or if many keys hash to the same index (collisions), the dictionary might need to search sequentially through the elements at that index, leading to a linear time complexity. This scenario is relatively rare in well-designed dictionaries. "
   ]
  },
  {
   "cell_type": "markdown",
   "id": "f07c5fb5",
   "metadata": {},
   "source": [
    "Question = 18 >>>  In what situations are lists preferred over dictionaries?"
   ]
  },
  {
   "cell_type": "markdown",
   "id": "ed86f1b3",
   "metadata": {},
   "source": [
    "Ans = For quick data look-ups, configurations, or caches, favor dictionaries. For ordered collections and sequence operations, such as maintaining a stack or queue, lists are more suitable."
   ]
  },
  {
   "cell_type": "markdown",
   "id": "ef80359c",
   "metadata": {},
   "source": [
    "Question = 19 >>>Why are dictionaries considered unordered, and how does that affect data retrieva?"
   ]
  },
  {
   "cell_type": "markdown",
   "id": "fab78dc7",
   "metadata": {},
   "source": [
    "Ans = For quick data look-ups, configurations, or caches, favor dictionaries. For ordered collections and sequence operations, such as maintaining a stack or queue, lists are more suitable."
   ]
  },
  {
   "cell_type": "markdown",
   "id": "9ce80d1b",
   "metadata": {},
   "source": [
    "Question = 20 >>> Explain the difference between a list and a dictionary in terms of data retrieval?"
   ]
  },
  {
   "cell_type": "markdown",
   "id": "9d872673",
   "metadata": {},
   "source": [
    "Ans = In terms of data retrieval, a dictionary offers significantly faster lookup of values based on unique keys compared to a list, which relies on numerical indices. Dictionaries, using a hash table, can find values associated with a key in an average of O(1) (constant) time, while lists, requiring sequential searching, have an average time complexity of O(n) (linear). \n",
    "\n",
    "Lists:\n",
    "\n",
    "Ordered:\n",
    "\n",
    "Elements are stored and accessed based on their position (index) in the sequence, starting from 0. \n",
    "\n",
    "Indexing:\n",
    "\n",
    "Elements are accessed using numerical indices (e.g., my_list to get the third element). \n",
    "\n",
    "Lookup Speed:\n",
    "\n",
    "Finding a specific element in a list requires iterating through it until the element is found, resulting in a potentially slow lookup, especially for large lists. \n",
    "\n",
    "Dictionaries:\n",
    "\n",
    "Unordered:\n",
    "\n",
    "Elements are stored as key-value pairs, and the order of insertion is not guaranteed. \n",
    "\n",
    "Keys:\n",
    "\n",
    "Elements are accessed using unique keys, not indices. These keys can be of various data types. \n",
    "\n",
    "Lookup Speed:\n",
    "\n",
    "Dictionaries use a hash table to store key-value pairs, allowing for extremely fast lookups based on keys. The lookup time is typically O(1) on average. "
   ]
  },
  {
   "cell_type": "code",
   "execution_count": 29,
   "id": "ce3fb357",
   "metadata": {},
   "outputs": [
    {
     "data": {
      "text/plain": [
       "'Alice'"
      ]
     },
     "execution_count": 29,
     "metadata": {},
     "output_type": "execute_result"
    }
   ],
   "source": [
    "my_dict = {\"name\": \"Alice\", \"age\": 30, \"city\": \"London\"}\n",
    "my_dict[\"name\"]"
   ]
  },
  {
   "cell_type": "markdown",
   "id": "0323634b",
   "metadata": {},
   "source": [
    "######### PRACTICAL QUESTIONS #########"
   ]
  },
  {
   "cell_type": "markdown",
   "id": "65942d7e",
   "metadata": {},
   "source": [
    "Question = 1 >>> Write a code to create a string with your name and print it?"
   ]
  },
  {
   "cell_type": "code",
   "execution_count": 30,
   "id": "fcee1307",
   "metadata": {},
   "outputs": [
    {
     "name": "stdout",
     "output_type": "stream",
     "text": [
      "Piyush Sanwal\n"
     ]
    }
   ],
   "source": [
    "my_name = \"Piyush Sanwal\"\n",
    "print(my_name)"
   ]
  },
  {
   "cell_type": "code",
   "execution_count": 31,
   "id": "2573ae9a",
   "metadata": {},
   "outputs": [
    {
     "data": {
      "text/plain": [
       "str"
      ]
     },
     "execution_count": 31,
     "metadata": {},
     "output_type": "execute_result"
    }
   ],
   "source": [
    "type(my_name)"
   ]
  },
  {
   "cell_type": "markdown",
   "id": "d0b32d79",
   "metadata": {},
   "source": [
    "Question = 2 >>> Write a code to find the length of the string \"Hello World\"?"
   ]
  },
  {
   "cell_type": "code",
   "execution_count": 36,
   "id": "2fe1ab87",
   "metadata": {},
   "outputs": [
    {
     "name": "stdout",
     "output_type": "stream",
     "text": [
      "The length of the string is:\n"
     ]
    },
    {
     "data": {
      "text/plain": [
       "11"
      ]
     },
     "execution_count": 36,
     "metadata": {},
     "output_type": "execute_result"
    }
   ],
   "source": [
    "word = \"Hello World\"\n",
    "print(f\"The length of the string is:\")\n",
    "len(word)"
   ]
  },
  {
   "cell_type": "markdown",
   "id": "454eac49",
   "metadata": {},
   "source": [
    "Question = 3 >>> Write a code to slice the first 3 characters from the string \"Python Programming\"?"
   ]
  },
  {
   "cell_type": "code",
   "execution_count": 37,
   "id": "9076de05",
   "metadata": {},
   "outputs": [
    {
     "name": "stdout",
     "output_type": "stream",
     "text": [
      "Pyt\n"
     ]
    }
   ],
   "source": [
    "string = \"Python Programming\"\n",
    "sliced_string = string[0:3]\n",
    "print(sliced_string)"
   ]
  },
  {
   "cell_type": "markdown",
   "id": "f83726be",
   "metadata": {},
   "source": [
    "Question = 4 >>> Write a code to convert the string \"hello\" to uppercase?"
   ]
  },
  {
   "cell_type": "code",
   "execution_count": 41,
   "id": "488846ef",
   "metadata": {},
   "outputs": [
    {
     "name": "stdout",
     "output_type": "stream",
     "text": [
      "HELLO\n"
     ]
    }
   ],
   "source": [
    "string = \"hello\"\n",
    "uppercase_str = string.upper()\n",
    "print(uppercase_str)"
   ]
  },
  {
   "cell_type": "markdown",
   "id": "1aa531bf",
   "metadata": {},
   "source": [
    "Question = 5 >>> Write a code to replace the word \"apple\" with \"orange\" in the string \"I like apple\"?"
   ]
  },
  {
   "cell_type": "code",
   "execution_count": 47,
   "id": "d4d3a36d",
   "metadata": {},
   "outputs": [
    {
     "data": {
      "text/plain": [
       "'I like orange'"
      ]
     },
     "execution_count": 47,
     "metadata": {},
     "output_type": "execute_result"
    }
   ],
   "source": [
    "string = \"I like apple\"\n",
    "string.replace(\"apple\", \"orange\")"
   ]
  },
  {
   "cell_type": "markdown",
   "id": "d4657f7d",
   "metadata": {},
   "source": [
    "Question = 6 >>> Write a code to create a list with numbers 1 to 5 and print it?"
   ]
  },
  {
   "cell_type": "code",
   "execution_count": 48,
   "id": "73daa3d4",
   "metadata": {},
   "outputs": [
    {
     "name": "stdout",
     "output_type": "stream",
     "text": [
      "[1, 2, 3, 4, 5]\n"
     ]
    }
   ],
   "source": [
    "nums = range(1,6)\n",
    "print(list(nums)) "
   ]
  },
  {
   "cell_type": "markdown",
   "id": "7571e116",
   "metadata": {},
   "source": [
    "Question = 7 >>> Write a code to append the number 10 to the list [1, 2, 3, 4] ?"
   ]
  },
  {
   "cell_type": "code",
   "execution_count": 51,
   "id": "514ba94e",
   "metadata": {},
   "outputs": [
    {
     "data": {
      "text/plain": [
       "[1, 2, 3, 4, 10]"
      ]
     },
     "execution_count": 51,
     "metadata": {},
     "output_type": "execute_result"
    }
   ],
   "source": [
    "list = [1,2,3,4]\n",
    "list.append(10)\n",
    "list"
   ]
  },
  {
   "cell_type": "markdown",
   "id": "76637e7c",
   "metadata": {},
   "source": [
    "Question = 8 >>> Write a code to remove the number 3 from the list [1, 2, 3, 4, 5]?"
   ]
  },
  {
   "cell_type": "code",
   "execution_count": 59,
   "id": "4d0ab7a4",
   "metadata": {},
   "outputs": [
    {
     "data": {
      "text/plain": [
       "[1, 2, 4, 5]"
      ]
     },
     "execution_count": 59,
     "metadata": {},
     "output_type": "execute_result"
    }
   ],
   "source": [
    "lis = [1,2,3,4,5]\n",
    "lis.remove(3)\n",
    "lis"
   ]
  },
  {
   "cell_type": "markdown",
   "id": "3d09e78c",
   "metadata": {},
   "source": [
    "Question = 9 >>> Write a code to access the second element in the list ['a', 'b', 'c', 'd']?"
   ]
  },
  {
   "cell_type": "code",
   "execution_count": 60,
   "id": "20f6ef52",
   "metadata": {},
   "outputs": [
    {
     "data": {
      "text/plain": [
       "'b'"
      ]
     },
     "execution_count": 60,
     "metadata": {},
     "output_type": "execute_result"
    }
   ],
   "source": [
    "list = ['a','b','c','d']\n",
    "list[1]"
   ]
  },
  {
   "cell_type": "code",
   "execution_count": 62,
   "id": "990788fe",
   "metadata": {},
   "outputs": [
    {
     "data": {
      "text/plain": [
       "['a', 'apple', 'c', 'd']"
      ]
     },
     "execution_count": 62,
     "metadata": {},
     "output_type": "execute_result"
    }
   ],
   "source": [
    "list[1]='apple'\n",
    "list"
   ]
  },
  {
   "cell_type": "markdown",
   "id": "7dc1950d",
   "metadata": {},
   "source": [
    "Question = 10 >>> Write a code to reverse the list [10, 20, 30, 40, 50]?"
   ]
  },
  {
   "cell_type": "code",
   "execution_count": 71,
   "id": "dbcb8593",
   "metadata": {},
   "outputs": [
    {
     "name": "stdout",
     "output_type": "stream",
     "text": [
      "[50, 40, 30, 20, 10]\n"
     ]
    }
   ],
   "source": [
    "list = [10, 20, 30, 40, 50]\n",
    "list.reverse()\n",
    "print(list)"
   ]
  },
  {
   "cell_type": "code",
   "execution_count": 73,
   "id": "bbf26267",
   "metadata": {},
   "outputs": [
    {
     "data": {
      "text/plain": [
       "[50, 40, 30, 20, 10]"
      ]
     },
     "execution_count": 73,
     "metadata": {},
     "output_type": "execute_result"
    }
   ],
   "source": [
    "list = [10, 20, 30, 40, 50]\n",
    "list[::-1]"
   ]
  },
  {
   "cell_type": "markdown",
   "id": "563714d5",
   "metadata": {},
   "source": [
    "Question = 11 >>>  Write a code to create a tuple with the elements 100, 200, 300 and print it?"
   ]
  },
  {
   "cell_type": "code",
   "execution_count": 74,
   "id": "219041dd",
   "metadata": {},
   "outputs": [
    {
     "name": "stdout",
     "output_type": "stream",
     "text": [
      "(100, 200, 300)\n"
     ]
    }
   ],
   "source": [
    "my_tuple = (100,200,300)\n",
    "print(my_tuple)"
   ]
  },
  {
   "cell_type": "code",
   "execution_count": 75,
   "id": "2e370b08",
   "metadata": {},
   "outputs": [
    {
     "data": {
      "text/plain": [
       "tuple"
      ]
     },
     "execution_count": 75,
     "metadata": {},
     "output_type": "execute_result"
    }
   ],
   "source": [
    "type(my_tuple)"
   ]
  },
  {
   "cell_type": "markdown",
   "id": "4d28c7a6",
   "metadata": {},
   "source": [
    "Question = 12 >>>  Write a code to access the second-to-last element of the tuple ('red', 'green', 'blue', 'yellow')?"
   ]
  },
  {
   "cell_type": "code",
   "execution_count": 76,
   "id": "c985cb56",
   "metadata": {},
   "outputs": [
    {
     "name": "stdout",
     "output_type": "stream",
     "text": [
      "blue\n"
     ]
    }
   ],
   "source": [
    "my_tuple =  ('red', 'green', 'blue', 'yellow')\n",
    "second_to_last = my_tuple[-2]\n",
    "print(second_to_last)"
   ]
  },
  {
   "cell_type": "markdown",
   "id": "2713da66",
   "metadata": {},
   "source": [
    "Question = 13 >>>  Write a code to find the minimum number in the tuple (10, 20, 5, 15)"
   ]
  },
  {
   "cell_type": "code",
   "execution_count": 77,
   "id": "7fb5571b",
   "metadata": {},
   "outputs": [
    {
     "name": "stdout",
     "output_type": "stream",
     "text": [
      "5\n"
     ]
    }
   ],
   "source": [
    "my_tuple = (10, 20, 5, 15)\n",
    "min_number = min(my_tuple)\n",
    "print(min_number)"
   ]
  },
  {
   "cell_type": "markdown",
   "id": "6c4232bf",
   "metadata": {},
   "source": [
    "Question = 14 >>> Write a code to find the index of the element \"cat\" in the tuple ('dog', 'cat', 'rabbit')"
   ]
  },
  {
   "cell_type": "code",
   "execution_count": 79,
   "id": "02f47d29",
   "metadata": {},
   "outputs": [
    {
     "name": "stdout",
     "output_type": "stream",
     "text": [
      "1\n"
     ]
    }
   ],
   "source": [
    "my_tuple = ('dog', 'cat', 'rabbit')\n",
    "index = my_tuple.index('cat')\n",
    "print(index)"
   ]
  },
  {
   "cell_type": "markdown",
   "id": "7ecc50c7",
   "metadata": {},
   "source": [
    "Question = 15 >>>  Write a code to create a tuple containing three different fruits and check if \"kiwi\" is in it?"
   ]
  },
  {
   "cell_type": "code",
   "execution_count": 80,
   "id": "e081534a",
   "metadata": {},
   "outputs": [
    {
     "name": "stdout",
     "output_type": "stream",
     "text": [
      "kiwi is in the list\n"
     ]
    }
   ],
   "source": [
    "fruits= ('apple','mango','kiwi')\n",
    "if 'kiwi' in fruits:\n",
    "    print(\"kiwi is in the list\")\n",
    "else:\n",
    "    print(\"kiwi is not in the list\")"
   ]
  },
  {
   "cell_type": "markdown",
   "id": "9cef2871",
   "metadata": {},
   "source": [
    "Question = 16 >>>  Write a code to create a set with the elements 'a', 'b', 'c' and print it?"
   ]
  },
  {
   "cell_type": "code",
   "execution_count": 81,
   "id": "f0b81686",
   "metadata": {},
   "outputs": [
    {
     "name": "stdout",
     "output_type": "stream",
     "text": [
      "{'a', 'b', 'c'}\n"
     ]
    }
   ],
   "source": [
    "my_set = {'a', 'b', 'c'}\n",
    "print(my_set)"
   ]
  },
  {
   "cell_type": "markdown",
   "id": "6a630568",
   "metadata": {},
   "source": [
    "Question = 17 >>>  Write a code to clear all elements from the set {1, 2, 3, 4, 5}"
   ]
  },
  {
   "cell_type": "code",
   "execution_count": 82,
   "id": "92407c75",
   "metadata": {},
   "outputs": [
    {
     "name": "stdout",
     "output_type": "stream",
     "text": [
      "set()\n"
     ]
    }
   ],
   "source": [
    "my_set = {1, 2, 3, 4, 5}\n",
    "my_set.clear()\n",
    "print(my_set)"
   ]
  },
  {
   "cell_type": "markdown",
   "id": "e13aa9ee",
   "metadata": {},
   "source": [
    "Question = 18 >>>  Write a code to remove the element 4 from the set {1, 2, 3, 4}"
   ]
  },
  {
   "cell_type": "code",
   "execution_count": 83,
   "id": "6a698c5d",
   "metadata": {},
   "outputs": [
    {
     "name": "stdout",
     "output_type": "stream",
     "text": [
      "{1, 2, 3}\n"
     ]
    }
   ],
   "source": [
    "my_set = {1, 2, 3, 4}\n",
    "my_set.remove(4)\n",
    "print(my_set)"
   ]
  },
  {
   "cell_type": "markdown",
   "id": "0f6e7c83",
   "metadata": {},
   "source": [
    "Question = 19 >>> Write a code to find the union of two sets {1, 2, 3} and {3, 4, 5}"
   ]
  },
  {
   "cell_type": "code",
   "execution_count": 85,
   "id": "51c43e14",
   "metadata": {},
   "outputs": [
    {
     "data": {
      "text/plain": [
       "{1, 2, 3, 4, 5, 6}"
      ]
     },
     "execution_count": 85,
     "metadata": {},
     "output_type": "execute_result"
    }
   ],
   "source": [
    "a = {1,2,3}\n",
    "b = {4,5,6}\n",
    "a_union_b = a|b\n",
    "a_union_b"
   ]
  },
  {
   "cell_type": "markdown",
   "id": "95148720",
   "metadata": {},
   "source": [
    "Question = 20 >>> Write a code to find the intersection of two sets {1, 2, 3} and {2, 3, 4}"
   ]
  },
  {
   "cell_type": "code",
   "execution_count": 86,
   "id": "0c1c5546",
   "metadata": {},
   "outputs": [
    {
     "data": {
      "text/plain": [
       "{2, 3}"
      ]
     },
     "execution_count": 86,
     "metadata": {},
     "output_type": "execute_result"
    }
   ],
   "source": [
    "a = {1,2,3}\n",
    "b = {2,3,4}\n",
    "a_intersection_b = a&b\n",
    "a_intersection_b"
   ]
  },
  {
   "cell_type": "markdown",
   "id": "44546ba2",
   "metadata": {},
   "source": [
    "Question = 21 >>> Write a code to create a dictionary with the keys \"name\", \"age\", and \"city\", and print itWrite a code to create a dictionary with the keys \"name\", \"age\", and \"city\", and print it"
   ]
  },
  {
   "cell_type": "code",
   "execution_count": 87,
   "id": "3e5a60b3",
   "metadata": {},
   "outputs": [
    {
     "name": "stdout",
     "output_type": "stream",
     "text": [
      "{'name': 'Piyush', 'age': 24, 'city': 'Kashipur'}\n",
      "<class 'dict'>\n"
     ]
    }
   ],
   "source": [
    "my_information = {'name': 'Piyush', 'age': 24, 'city': 'Kashipur'}\n",
    "print(my_information)\n",
    "print(type(my_information))"
   ]
  },
  {
   "cell_type": "markdown",
   "id": "86e088a8",
   "metadata": {},
   "source": [
    "Question = 22 >>>  Write a code to add a new key-value pair \"country\": \"USA\" to the dictionary {'name': 'John', 'age': 25}"
   ]
  },
  {
   "cell_type": "code",
   "execution_count": 93,
   "id": "946d608e",
   "metadata": {},
   "outputs": [],
   "source": [
    "my_dict = {'name':'John', 'age':25}"
   ]
  },
  {
   "cell_type": "code",
   "execution_count": 95,
   "id": "30be0ccc",
   "metadata": {},
   "outputs": [
    {
     "data": {
      "text/plain": [
       "{'name': 'John', 'age': 25, 'country': 'USA'}"
      ]
     },
     "execution_count": 95,
     "metadata": {},
     "output_type": "execute_result"
    }
   ],
   "source": [
    "my_dict[\"country\"] = \"USA\"\n",
    "my_dict"
   ]
  },
  {
   "cell_type": "markdown",
   "id": "4d09def8",
   "metadata": {},
   "source": [
    "Question = 23 >>> Write a code to access the value associated with the key \"name\" in the dictionary {'name': 'Alice', 'age': 30}"
   ]
  },
  {
   "cell_type": "code",
   "execution_count": 96,
   "id": "6b47ecd8",
   "metadata": {},
   "outputs": [],
   "source": [
    "my_dict = {'name': 'alice', 'age': 30}"
   ]
  },
  {
   "cell_type": "code",
   "execution_count": 101,
   "id": "44f1da79",
   "metadata": {},
   "outputs": [
    {
     "data": {
      "text/plain": [
       "'alice'"
      ]
     },
     "execution_count": 101,
     "metadata": {},
     "output_type": "execute_result"
    }
   ],
   "source": [
    "my_dict['name']"
   ]
  },
  {
   "cell_type": "markdown",
   "id": "eb7fb005",
   "metadata": {},
   "source": [
    "Question = 24 >>>  Write a code to remove the key \"age\" from the dictionary {'name': 'Bob', 'age': 22, 'city': 'New York'}"
   ]
  },
  {
   "cell_type": "code",
   "execution_count": 105,
   "id": "57cf51b8",
   "metadata": {},
   "outputs": [],
   "source": [
    "d={'name': 'Bob', 'age': 22, 'city': 'New York'}\n",
    "del d['age']"
   ]
  },
  {
   "cell_type": "code",
   "execution_count": 106,
   "id": "4c514dfd",
   "metadata": {},
   "outputs": [
    {
     "data": {
      "text/plain": [
       "{'name': 'Bob', 'city': 'New York'}"
      ]
     },
     "execution_count": 106,
     "metadata": {},
     "output_type": "execute_result"
    }
   ],
   "source": [
    "d"
   ]
  },
  {
   "cell_type": "markdown",
   "id": "80d68e96",
   "metadata": {},
   "source": [
    "Question = 25 >>>  Write a code to check if the key \"city\" exists in the dictionary {'name': 'Alice', 'city': 'Paris'}"
   ]
  },
  {
   "cell_type": "code",
   "execution_count": 9,
   "id": "3913ae52",
   "metadata": {},
   "outputs": [
    {
     "name": "stdout",
     "output_type": "stream",
     "text": [
      "Key 'city' exists in the dictionary.\n"
     ]
    }
   ],
   "source": [
    "data = {'name': 'Alice', 'city': 'Paris'}\n",
    "\n",
    "if data.get('city') is not None:\n",
    "    print(\"Key 'city' exists in the dictionary.\")\n",
    "else:\n",
    "    print(\"Key 'city' does not exist in the dictionary.\")\n"
   ]
  },
  {
   "cell_type": "code",
   "execution_count": 10,
   "id": "d2accc8b",
   "metadata": {},
   "outputs": [
    {
     "name": "stdout",
     "output_type": "stream",
     "text": [
      "Key 'city' exists in the dictionary.\n"
     ]
    }
   ],
   "source": [
    "data = {'name': 'Alice', 'city': 'Paris'}\n",
    "\n",
    "if 'city' in data:\n",
    "    print(\"Key 'city' exists in the dictionary.\")\n",
    "else:\n",
    "    print(\"Key 'city' does not exist in the dictionary.\")\n"
   ]
  },
  {
   "cell_type": "markdown",
   "id": "0b277077",
   "metadata": {},
   "source": [
    "Question = 26 >>> Write a code to create a list, a tuple, and a dictionary, and print them all"
   ]
  },
  {
   "cell_type": "code",
   "execution_count": 11,
   "id": "15603e3c",
   "metadata": {},
   "outputs": [
    {
     "name": "stdout",
     "output_type": "stream",
     "text": [
      "List: [1, 2, 3, 4, 5]\n",
      "Tuple: ('a', 'b', 'c')\n",
      "Dictionary: {'name': 'Alice', 'age': 30, 'city': 'Paris'}\n"
     ]
    }
   ],
   "source": [
    "# Creating a list\n",
    "my_list = [1, 2, 3, 4, 5]\n",
    "\n",
    "# Creating a tuple\n",
    "my_tuple = ('a', 'b', 'c')\n",
    "\n",
    "# Creating a dictionary\n",
    "my_dict = {'name': 'Alice', 'age': 30, 'city': 'Paris'}\n",
    "\n",
    "# Printing the list\n",
    "print(\"List:\", my_list)\n",
    "\n",
    "# Printing the tuple\n",
    "print(\"Tuple:\", my_tuple)\n",
    "\n",
    "# Printing the dictionary\n",
    "print(\"Dictionary:\", my_dict)\n"
   ]
  },
  {
   "cell_type": "markdown",
   "id": "56f4479f",
   "metadata": {},
   "source": [
    "Question = 27 >>> Write a code to create a list of 5 random numbers between 1 and 100, sort it in ascending order, and print the\n",
    "result.(replaced)"
   ]
  },
  {
   "cell_type": "code",
   "execution_count": 14,
   "id": "7caf0732",
   "metadata": {},
   "outputs": [
    {
     "name": "stdout",
     "output_type": "stream",
     "text": [
      "Sorted list: [10, 16, 30, 62, 83]\n"
     ]
    }
   ],
   "source": [
    "import random\n",
    "\n",
    "# Generate a list of 5 unique random numbers between 1 and 100\n",
    "random_numbers = random.sample(range(1, 101), 5)\n",
    "\n",
    "# Sort the list in ascending order\n",
    "random_numbers.sort()\n",
    "\n",
    "# Print the sorted list\n",
    "print(\"Sorted list:\", random_numbers)\n"
   ]
  },
  {
   "cell_type": "markdown",
   "id": "5c953271",
   "metadata": {},
   "source": [
    "Question = 28 >>> Write a code to create a list with strings and print the element at the third index"
   ]
  },
  {
   "cell_type": "code",
   "execution_count": 15,
   "id": "29940ba8",
   "metadata": {},
   "outputs": [
    {
     "name": "stdout",
     "output_type": "stream",
     "text": [
      "Element at index 3: date\n"
     ]
    }
   ],
   "source": [
    "# Creating a list of strings\n",
    "my_list = ['apple', 'banana', 'cherry', 'date', 'elderberry']\n",
    "\n",
    "# Access and print the element at the third index (fourth element)\n",
    "print(\"Element at index 3:\", my_list[3])\n"
   ]
  },
  {
   "cell_type": "markdown",
   "id": "ecfcb2a5",
   "metadata": {},
   "source": [
    "Question = 29 >>> Write a code to combine two dictionaries into one and print the result"
   ]
  },
  {
   "cell_type": "code",
   "execution_count": 16,
   "id": "9ffbd345",
   "metadata": {},
   "outputs": [
    {
     "name": "stdout",
     "output_type": "stream",
     "text": [
      "Combined dictionary: {'a': 1, 'b': 3, 'c': 4}\n"
     ]
    }
   ],
   "source": [
    "dict1 = {'a': 1, 'b': 2}\n",
    "dict2 = {'b': 3, 'c': 4}\n",
    "\n",
    "combined = dict1 | dict2\n",
    "print(\"Combined dictionary:\", combined)\n",
    "#a union b = a + b"
   ]
  },
  {
   "cell_type": "markdown",
   "id": "cccd27d1",
   "metadata": {},
   "source": [
    "Question = 30 >>> Write a code to convert a list of strings into a set"
   ]
  },
  {
   "cell_type": "code",
   "execution_count": 17,
   "id": "16a69e4f",
   "metadata": {},
   "outputs": [
    {
     "name": "stdout",
     "output_type": "stream",
     "text": [
      "Resulting set: {'banana', 'cherry', 'apple'}\n"
     ]
    }
   ],
   "source": [
    "# Original list of strings\n",
    "my_list = ['apple', 'banana', 'apple', 'cherry', 'banana']\n",
    "\n",
    "# Convert to set (duplicates removed)\n",
    "my_set = set(my_list)\n",
    "\n",
    "print(\"Resulting set:\", my_set)\n"
   ]
  },
  {
   "cell_type": "code",
   "execution_count": null,
   "id": "150ce441",
   "metadata": {},
   "outputs": [],
   "source": []
  }
 ],
 "metadata": {
  "kernelspec": {
   "display_name": "Python 3",
   "language": "python",
   "name": "python3"
  },
  "language_info": {
   "codemirror_mode": {
    "name": "ipython",
    "version": 3
   },
   "file_extension": ".py",
   "mimetype": "text/x-python",
   "name": "python",
   "nbconvert_exporter": "python",
   "pygments_lexer": "ipython3",
   "version": "3.13.3"
  }
 },
 "nbformat": 4,
 "nbformat_minor": 5
}
